{
 "cells": [
  {
   "cell_type": "markdown",
   "metadata": {},
   "source": [
    "# Min AND Max\n"
   ]
  },
  {
   "cell_type": "code",
   "execution_count": 14,
   "metadata": {},
   "outputs": [
    {
     "name": "stdout",
     "output_type": "stream",
     "text": [
      "Maximum number is = 55 and Minimum noumber is = 2\n"
     ]
    }
   ],
   "source": [
    "def MinMax(arr,i,j):\n",
    "    if i==j:\n",
    "        maxi = mini = arr[0]\n",
    "        return maxi,mini\n",
    "    elif i==j-1:\n",
    "        if arr[i]>arr[j]:\n",
    "            maxi = arr[i]\n",
    "            mini = arr[j]\n",
    "        else:\n",
    "            maxi = arr[j]\n",
    "            mini = arr[i]\n",
    "    else:\n",
    "        mid = (i+j)//2\n",
    "        maxi1, mini1 = MinMax(arr,i,mid)\n",
    "        maxi2, mini2 = MinMax(arr,mid+1,j)\n",
    "        if maxi1>maxi2:\n",
    "            maxi = maxi1\n",
    "        else:\n",
    "            maxi = maxi2\n",
    "        if mini1<mini2:\n",
    "            mini = mini1\n",
    "        else:\n",
    "            mini = mini2\n",
    "    return maxi,mini\n",
    "\n",
    "arr = [25,15,66,42,10,5,8,55,2]\n",
    "maximum, minimum = MinMax(arr,0,len(arr)-1)\n",
    "print(f\"Maximum number is = {maximum} and Minimum noumber is = {minimum}\")"
   ]
  },
  {
   "cell_type": "markdown",
   "metadata": {},
   "source": [
    "# Power of an Element"
   ]
  },
  {
   "cell_type": "code",
   "execution_count": 16,
   "metadata": {},
   "outputs": [
    {
     "name": "stdout",
     "output_type": "stream",
     "text": [
      "16\n"
     ]
    }
   ],
   "source": [
    "def Power(number,power):\n",
    "    if power == 1:\n",
    "        return number\n",
    "    else:\n",
    "        mid = power//2\n",
    "        single_number = Power(number,mid)\n",
    "        result = single_number * single_number \n",
    "        return result\n",
    "\n",
    "result = Power(2,4)\n",
    "print(result)"
   ]
  },
  {
   "cell_type": "markdown",
   "metadata": {},
   "source": [
    "# Linear Search"
   ]
  },
  {
   "cell_type": "code",
   "execution_count": 20,
   "metadata": {},
   "outputs": [
    {
     "name": "stdout",
     "output_type": "stream",
     "text": [
      "Found at 4 position\n"
     ]
    }
   ],
   "source": [
    "def LinearSearch(arr,i,j,element):\n",
    "    for i in range(j):\n",
    "        if arr[i]==element:\n",
    "            return i+1\n",
    "arr = [1,2,3,4,5,6,7]\n",
    "index = LinearSearch(arr,0,len(arr)-1,4)\n",
    "print(f\"Found at {index} position\")"
   ]
  },
  {
   "cell_type": "markdown",
   "metadata": {},
   "source": [
    "# Binary Search"
   ]
  },
  {
   "cell_type": "code",
   "execution_count": null,
   "metadata": {},
   "outputs": [],
   "source": [
    "def BinarySearch(arr,i,j,element):\n",
    "    mid = (i+j)//2\n",
    "    if arr[mid]==element:\n",
    "        return mid\n",
    "    elif arr[mid]>element:\n",
    "        return BinarySearch(arr,i,mid-1,element)\n",
    "    else:\n",
    "        return BinarySearch(arr,mid+1,j,element)\n",
    "    \n",
    "arr = [1,2,3,4,5,6,7]\n",
    "index = BinarySearch(arr,0,len(arr),4) \n",
    "print(index)"
   ]
  },
  {
   "cell_type": "markdown",
   "metadata": {},
   "source": [
    "# Selection Sort"
   ]
  },
  {
   "cell_type": "code",
   "execution_count": 23,
   "metadata": {},
   "outputs": [
    {
     "name": "stdout",
     "output_type": "stream",
     "text": [
      "[1, 2, 3, 5, 6, 7, 7]\n"
     ]
    }
   ],
   "source": [
    "def SelectionSort(arr):\n",
    "    for i in range(len(arr)):\n",
    "        min_index = i\n",
    "        for j in range(i+1, len(arr)):\n",
    "            if arr[min_index] > arr[j]:\n",
    "                arr[min_index], arr[j] = arr[j] , arr[min_index]\n",
    "    return arr\n",
    "arr = [2,7,5,1,3,6,7]\n",
    "sorted_list = SelectionSort(arr)\n",
    "print(sorted_list)"
   ]
  },
  {
   "cell_type": "markdown",
   "metadata": {},
   "source": [
    "# Bubble Sort"
   ]
  },
  {
   "cell_type": "code",
   "execution_count": 27,
   "metadata": {},
   "outputs": [
    {
     "name": "stdout",
     "output_type": "stream",
     "text": [
      "[1, 2, 3, 5, 6, 7, 7]\n",
      "[1, 2, 3, 5, 6, 7, 7]\n"
     ]
    }
   ],
   "source": [
    "def BubbleSort(arr):\n",
    "    for i in range(len(arr)+1):\n",
    "        for j in range(len(arr)-1):\n",
    "            if arr[j] > arr[j+1]:\n",
    "                arr[j], arr[j+1] = arr[j+1], arr[j]\n",
    "    return arr\n",
    "arr = [2,7,5,1,3,6,7]\n",
    "sorted_result = BubbleSort(arr)\n",
    "print(sorted_result)"
   ]
  },
  {
   "cell_type": "markdown",
   "metadata": {},
   "source": [
    "# Insertion Sort"
   ]
  },
  {
   "cell_type": "code",
   "execution_count": 29,
   "metadata": {},
   "outputs": [
    {
     "name": "stdout",
     "output_type": "stream",
     "text": [
      "[1, 2, 3, 5, 6, 7, 7]\n"
     ]
    }
   ],
   "source": [
    "def InsertionSort(arr):\n",
    "    for i in range(1,len(arr)):\n",
    "        key = arr[i]\n",
    "        j = i-1\n",
    "        while j >=0 and key < arr[j]:\n",
    "            arr[j+1] = arr[j]\n",
    "            j -= 1\n",
    "        arr[j+1] = key\n",
    "    return arr\n",
    "arr = [2,7,5,1,3,6,7]\n",
    "sorted_result = InsertionSort(arr)\n",
    "print(sorted_result)"
   ]
  },
  {
   "cell_type": "markdown",
   "metadata": {},
   "source": [
    "# Merge Sort"
   ]
  },
  {
   "cell_type": "code",
   "execution_count": 30,
   "metadata": {},
   "outputs": [
    {
     "name": "stdout",
     "output_type": "stream",
     "text": [
      "[1, 2, 3, 5, 6, 7, 7]\n"
     ]
    }
   ],
   "source": [
    "def MergeSort(arr):\n",
    "    if len(arr)>1:\n",
    "        mid = len(arr)//2\n",
    "        L = arr[:mid]\n",
    "        R = arr[mid:]\n",
    "        MergeSort(L)\n",
    "        MergeSort(R)\n",
    "        i=j=k=0\n",
    "        while i<len(L) and j<len(R):\n",
    "            if L[i] < R[j]:\n",
    "                arr[k]=L[i]\n",
    "                i += 1\n",
    "            else:\n",
    "                arr[k]=R[j]\n",
    "                j += 1\n",
    "            k += 1\n",
    "        while i <len(L):\n",
    "            arr[k]=L[i]\n",
    "            i += 1\n",
    "            k += 1\n",
    "        while j <len(R):\n",
    "            arr[k] = R[j]\n",
    "            j += 1\n",
    "            k += 1\n",
    "    return arr\n",
    "arr = [2,7,5,1,3,6,7]\n",
    "sorted_list = MergeSort(arr)\n",
    "print(sorted_list)\n",
    "                "
   ]
  },
  {
   "cell_type": "markdown",
   "metadata": {},
   "source": [
    "# Quick Sort\n"
   ]
  },
  {
   "cell_type": "code",
   "execution_count": 36,
   "metadata": {},
   "outputs": [
    {
     "name": "stdout",
     "output_type": "stream",
     "text": [
      "None\n"
     ]
    }
   ],
   "source": [
    "def partition(arr, low, high):\n",
    "    i = low -1 \n",
    "    pivot = arr[high]\n",
    "    for j in range(low , high):\n",
    "        if arr[j] <= pivot:\n",
    "            i = i+1\n",
    "            arr[i],arr[j] = arr[j],arr[i]\n",
    "    arr[i+1],arr[high] = arr[high],arr[i+1]\n",
    "    return i+1\n",
    "def QuickSort(arr, low, high):\n",
    "    if low<high:\n",
    "        pi = partition(arr,low,high)\n",
    "        QuickSort(arr,low,pi-1)\n",
    "        QuickSort(arr,pi+1,high)\n",
    "arr = [2,7,5,1,3,6,7]\n",
    "sorted_list = QuickSort(arr,0,len(arr)-1)\n",
    "print(sorted_list)\n",
    "\n"
   ]
  },
  {
   "cell_type": "code",
   "execution_count": null,
   "metadata": {},
   "outputs": [],
   "source": []
  }
 ],
 "metadata": {
  "kernelspec": {
   "display_name": "Python 3",
   "language": "python",
   "name": "python3"
  },
  "language_info": {
   "codemirror_mode": {
    "name": "ipython",
    "version": 3
   },
   "file_extension": ".py",
   "mimetype": "text/x-python",
   "name": "python",
   "nbconvert_exporter": "python",
   "pygments_lexer": "ipython3",
   "version": "3.7.6"
  }
 },
 "nbformat": 4,
 "nbformat_minor": 4
}
